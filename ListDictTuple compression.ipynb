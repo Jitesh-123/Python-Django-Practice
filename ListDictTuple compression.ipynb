{
 "cells": [
  {
   "cell_type": "code",
   "execution_count": null,
   "id": "bf1e298f",
   "metadata": {},
   "outputs": [],
   "source": [
    "compress to single line"
   ]
  },
  {
   "cell_type": "code",
   "execution_count": null,
   "id": "790ae2ac",
   "metadata": {},
   "outputs": [],
   "source": [
    "for  and condition if  \n",
    "\n",
    "\n",
    "list compress --> list"
   ]
  },
  {
   "cell_type": "code",
   "execution_count": 1,
   "id": "4941ee63",
   "metadata": {},
   "outputs": [],
   "source": [
    "p = list(range(23))"
   ]
  },
  {
   "cell_type": "code",
   "execution_count": 2,
   "id": "508fbf6d",
   "metadata": {},
   "outputs": [
    {
     "data": {
      "text/plain": [
       "[0,\n",
       " 1,\n",
       " 2,\n",
       " 3,\n",
       " 4,\n",
       " 5,\n",
       " 6,\n",
       " 7,\n",
       " 8,\n",
       " 9,\n",
       " 10,\n",
       " 11,\n",
       " 12,\n",
       " 13,\n",
       " 14,\n",
       " 15,\n",
       " 16,\n",
       " 17,\n",
       " 18,\n",
       " 19,\n",
       " 20,\n",
       " 21,\n",
       " 22]"
      ]
     },
     "execution_count": 2,
     "metadata": {},
     "output_type": "execute_result"
    }
   ],
   "source": [
    "p"
   ]
  },
  {
   "cell_type": "code",
   "execution_count": 4,
   "id": "9e24f5c3",
   "metadata": {},
   "outputs": [],
   "source": [
    "odd = []\n",
    "for i in p:\n",
    "    if i%2!=0:\n",
    "        odd.append(i)"
   ]
  },
  {
   "cell_type": "code",
   "execution_count": 6,
   "id": "f92ae8ed",
   "metadata": {},
   "outputs": [
    {
     "data": {
      "text/plain": [
       "[1, 3, 5, 7, 9, 11, 13, 15, 17, 19, 21]"
      ]
     },
     "execution_count": 6,
     "metadata": {},
     "output_type": "execute_result"
    }
   ],
   "source": [
    "\n",
    "odd"
   ]
  },
  {
   "cell_type": "code",
   "execution_count": null,
   "id": "dbbb9710",
   "metadata": {},
   "outputs": [],
   "source": [
    "\n",
    "for i in p if i%2!=0:\n",
    "        "
   ]
  },
  {
   "cell_type": "code",
   "execution_count": null,
   "id": "436f6f97",
   "metadata": {},
   "outputs": [],
   "source": [
    "p = [outputvar for outputvar in seq if condition]"
   ]
  },
  {
   "cell_type": "code",
   "execution_count": 7,
   "id": "2332cf03",
   "metadata": {},
   "outputs": [],
   "source": [
    "odd = [ i for i in p if i%2!=0]"
   ]
  },
  {
   "cell_type": "code",
   "execution_count": 8,
   "id": "1ed1d1df",
   "metadata": {},
   "outputs": [
    {
     "data": {
      "text/plain": [
       "[1, 3, 5, 7, 9, 11, 13, 15, 17, 19, 21]"
      ]
     },
     "execution_count": 8,
     "metadata": {},
     "output_type": "execute_result"
    }
   ],
   "source": [
    "odd"
   ]
  },
  {
   "cell_type": "code",
   "execution_count": 9,
   "id": "bc5b3358",
   "metadata": {},
   "outputs": [],
   "source": [
    "p = [[1,2,3],[4,5,6]]"
   ]
  },
  {
   "cell_type": "code",
   "execution_count": 11,
   "id": "bd4994fa",
   "metadata": {},
   "outputs": [
    {
     "data": {
      "text/plain": [
       "[1, 3, 5]"
      ]
     },
     "execution_count": 11,
     "metadata": {},
     "output_type": "execute_result"
    }
   ],
   "source": [
    "p = [[1,2,3],[4,5,6]]\n",
    "[j for i in p for j in i if j%2!=0]"
   ]
  },
  {
   "cell_type": "code",
   "execution_count": 12,
   "id": "2a8cb1ff",
   "metadata": {},
   "outputs": [],
   "source": [
    "p = ['test.pdf','test.txt','sample.pdf','sample.txt','asfdas.pdf']"
   ]
  },
  {
   "cell_type": "code",
   "execution_count": 14,
   "id": "dd585b09",
   "metadata": {},
   "outputs": [],
   "source": [
    "filter_list = [l for l in p if l.endswith('.pdf')]"
   ]
  },
  {
   "cell_type": "code",
   "execution_count": 15,
   "id": "e7bf5588",
   "metadata": {},
   "outputs": [
    {
     "data": {
      "text/plain": [
       "['test.pdf', 'sample.pdf', 'asfdas.pdf']"
      ]
     },
     "execution_count": 15,
     "metadata": {},
     "output_type": "execute_result"
    }
   ],
   "source": [
    "filter_list"
   ]
  },
  {
   "cell_type": "code",
   "execution_count": 16,
   "id": "7e8d3238",
   "metadata": {},
   "outputs": [
    {
     "data": {
      "text/plain": [
       "['test.pdf', 'test.txt', 'sample.pdf', 'sample.txt', 'asfdas.pdf']"
      ]
     },
     "execution_count": 16,
     "metadata": {},
     "output_type": "execute_result"
    }
   ],
   "source": [
    "p"
   ]
  },
  {
   "cell_type": "code",
   "execution_count": 17,
   "id": "70eb261f",
   "metadata": {},
   "outputs": [],
   "source": [
    "test = [1,2,3,5,6]"
   ]
  },
  {
   "cell_type": "code",
   "execution_count": 18,
   "id": "1e352d6e",
   "metadata": {},
   "outputs": [],
   "source": [
    "#{1:1,2:2,3:3,5:5,6:6}"
   ]
  },
  {
   "cell_type": "code",
   "execution_count": 20,
   "id": "c8c8e828",
   "metadata": {},
   "outputs": [
    {
     "data": {
      "text/plain": [
       "{1: 1, 2: 2, 3: 3, 5: 5, 6: 6}"
      ]
     },
     "execution_count": 20,
     "metadata": {},
     "output_type": "execute_result"
    }
   ],
   "source": [
    "{i:i for i in test}"
   ]
  },
  {
   "cell_type": "code",
   "execution_count": null,
   "id": "d9f53a14",
   "metadata": {},
   "outputs": [],
   "source": [
    "['test.pdf', 'test.txt', 'sample.pdf', 'sample.txt', 'asfdas.pdf']\n",
    "\n",
    "{1:'test.pdf',2:'test.txt',3:'sample.pdf'........}"
   ]
  },
  {
   "cell_type": "code",
   "execution_count": 21,
   "id": "b4eb3a3e",
   "metadata": {},
   "outputs": [
    {
     "data": {
      "text/plain": [
       "['test.pdf', 'test.txt', 'sample.pdf', 'sample.txt', 'asfdas.pdf']"
      ]
     },
     "execution_count": 21,
     "metadata": {},
     "output_type": "execute_result"
    }
   ],
   "source": [
    "p"
   ]
  },
  {
   "cell_type": "code",
   "execution_count": 25,
   "id": "554cbab7",
   "metadata": {},
   "outputs": [
    {
     "data": {
      "text/plain": [
       "{1: 'test.pdf',\n",
       " 2: 'test.txt',\n",
       " 3: 'sample.pdf',\n",
       " 4: 'sample.txt',\n",
       " 5: 'asfdas.pdf'}"
      ]
     },
     "execution_count": 25,
     "metadata": {},
     "output_type": "execute_result"
    }
   ],
   "source": [
    "{i+1:j for i,j in enumerate(p)}"
   ]
  },
  {
   "cell_type": "code",
   "execution_count": 27,
   "id": "9d93b52a",
   "metadata": {},
   "outputs": [
    {
     "name": "stdout",
     "output_type": "stream",
     "text": [
      "0 test.pdf\n",
      "1 test.txt\n",
      "2 sample.pdf\n",
      "3 sample.txt\n",
      "4 asfdas.pdf\n"
     ]
    }
   ],
   "source": [
    "for index,element in enumerate(p):\n",
    "    print(index,element)"
   ]
  },
  {
   "cell_type": "code",
   "execution_count": 28,
   "id": "121294e0",
   "metadata": {},
   "outputs": [
    {
     "data": {
      "text/plain": [
       "['test.pdf', 'test.txt', 'sample.pdf', 'sample.txt', 'asfdas.pdf']"
      ]
     },
     "execution_count": 28,
     "metadata": {},
     "output_type": "execute_result"
    }
   ],
   "source": [
    "p"
   ]
  },
  {
   "cell_type": "code",
   "execution_count": 31,
   "id": "f7cd1797",
   "metadata": {},
   "outputs": [
    {
     "data": {
      "text/plain": [
       "[1, 2, 3, 4, 5]"
      ]
     },
     "execution_count": 31,
     "metadata": {},
     "output_type": "execute_result"
    }
   ],
   "source": [
    "list()"
   ]
  },
  {
   "cell_type": "code",
   "execution_count": 42,
   "id": "bf98e6d4",
   "metadata": {},
   "outputs": [
    {
     "data": {
      "text/plain": [
       "{1: 'test.pdf',\n",
       " 2: 'test.txt',\n",
       " 3: 'sample.pdf',\n",
       " 4: 'sample.txt',\n",
       " 5: 'asfdas.pdf'}"
      ]
     },
     "execution_count": 42,
     "metadata": {},
     "output_type": "execute_result"
    }
   ],
   "source": [
    "{i+1:j for j in p for i in range(0,len(p)+1) if p.index(j)==i }"
   ]
  },
  {
   "cell_type": "code",
   "execution_count": 40,
   "id": "74ac8e39",
   "metadata": {},
   "outputs": [],
   "source": [
    "d = {}\n",
    "for j in p:\n",
    "    for i in range(0,len(p)+1):\n",
    "        if p.index(j)==i:\n",
    "               d[i+1]=j"
   ]
  },
  {
   "cell_type": "code",
   "execution_count": 41,
   "id": "338285bf",
   "metadata": {},
   "outputs": [
    {
     "data": {
      "text/plain": [
       "{1: 'test.pdf',\n",
       " 2: 'test.txt',\n",
       " 3: 'sample.pdf',\n",
       " 4: 'sample.txt',\n",
       " 5: 'asfdas.pdf'}"
      ]
     },
     "execution_count": 41,
     "metadata": {},
     "output_type": "execute_result"
    }
   ],
   "source": [
    "d"
   ]
  },
  {
   "cell_type": "code",
   "execution_count": 43,
   "id": "cd5d05ce",
   "metadata": {},
   "outputs": [],
   "source": [
    "p = ['abc','psdf','asdf','sdfgdsg']"
   ]
  },
  {
   "cell_type": "code",
   "execution_count": null,
   "id": "8d9ac986",
   "metadata": {},
   "outputs": [],
   "source": [
    "Assignment:\n",
    "'ab':1,'ps':2,'as':3,'sd':4"
   ]
  },
  {
   "cell_type": "code",
   "execution_count": null,
   "id": "6a0334d1",
   "metadata": {},
   "outputs": [],
   "source": [
    "email = ['abc@gmail.com','sdfsdf@']"
   ]
  },
  {
   "cell_type": "code",
   "execution_count": null,
   "id": "616ff6c2",
   "metadata": {},
   "outputs": [],
   "source": [
    "Assignment:\n",
    "'gmail.com' :  'abc'"
   ]
  },
  {
   "cell_type": "code",
   "execution_count": null,
   "id": "ec3d46ef",
   "metadata": {},
   "outputs": [],
   "source": [
    "{1:1,2:4,3:9,4:16.....}"
   ]
  },
  {
   "cell_type": "code",
   "execution_count": null,
   "id": "ccb99752",
   "metadata": {},
   "outputs": [],
   "source": [
    "===========================================\n",
    "{1,2,3,4,5,6,7,8}\n",
    "===========================================\n",
    "{1:2,2:3,3:4,4:5,5:6,6:7,8:8}\n",
    "==========================================="
   ]
  },
  {
   "cell_type": "code",
   "execution_count": 44,
   "id": "ea8740b1",
   "metadata": {},
   "outputs": [],
   "source": [
    "test = [56,34,59,44,57,36,90]"
   ]
  },
  {
   "cell_type": "code",
   "execution_count": null,
   "id": "76ebc2e4",
   "metadata": {},
   "outputs": [],
   "source": [
    "output:\n",
    "    [56:34,34:59,59:44,44:57,57:36,36:90]\n",
    "    \n",
    "    \n",
    "Assigment:\n",
    "list=[2,4,6,8,10]\n",
    "convert to dict with square as there key value\n",
    "4:2,16:4,36:6,64:8,100:10"
   ]
  },
  {
   "cell_type": "code",
   "execution_count": null,
   "id": "f9c15c12",
   "metadata": {},
   "outputs": [],
   "source": [
    "list,dict\n",
    "\n",
    "\n",
    "\n",
    "tuple --> compression is not possible in python\n"
   ]
  },
  {
   "cell_type": "code",
   "execution_count": null,
   "id": "bcfd790f",
   "metadata": {},
   "outputs": [],
   "source": [
    "it will create generator object"
   ]
  },
  {
   "cell_type": "code",
   "execution_count": null,
   "id": "cf37a841",
   "metadata": {},
   "outputs": [],
   "source": []
  },
  {
   "cell_type": "code",
   "execution_count": 45,
   "id": "58571aa0",
   "metadata": {},
   "outputs": [],
   "source": [
    "p = (1,2,3,4,5)"
   ]
  },
  {
   "cell_type": "code",
   "execution_count": 46,
   "id": "74893e12",
   "metadata": {},
   "outputs": [],
   "source": [
    "t = (i for i in p)"
   ]
  },
  {
   "cell_type": "code",
   "execution_count": 47,
   "id": "f3b2416e",
   "metadata": {},
   "outputs": [
    {
     "data": {
      "text/plain": [
       "<generator object <genexpr> at 0x00000205BC023EB0>"
      ]
     },
     "execution_count": 47,
     "metadata": {},
     "output_type": "execute_result"
    }
   ],
   "source": [
    "t"
   ]
  },
  {
   "cell_type": "code",
   "execution_count": 48,
   "id": "39676305",
   "metadata": {},
   "outputs": [
    {
     "data": {
      "text/plain": [
       "generator"
      ]
     },
     "execution_count": 48,
     "metadata": {},
     "output_type": "execute_result"
    }
   ],
   "source": [
    "type(t)"
   ]
  },
  {
   "cell_type": "code",
   "execution_count": null,
   "id": "e200c90e",
   "metadata": {},
   "outputs": [],
   "source": []
  },
  {
   "cell_type": "code",
   "execution_count": null,
   "id": "988fa14c",
   "metadata": {},
   "outputs": [],
   "source": []
  },
  {
   "cell_type": "code",
   "execution_count": null,
   "id": "f8b44779",
   "metadata": {},
   "outputs": [],
   "source": []
  },
  {
   "cell_type": "code",
   "execution_count": null,
   "id": "87d6a898",
   "metadata": {},
   "outputs": [],
   "source": []
  },
  {
   "cell_type": "code",
   "execution_count": null,
   "id": "94b66df8",
   "metadata": {},
   "outputs": [],
   "source": []
  }
 ],
 "metadata": {
  "kernelspec": {
   "display_name": "Python 3",
   "language": "python",
   "name": "python3"
  },
  "language_info": {
   "codemirror_mode": {
    "name": "ipython",
    "version": 3
   },
   "file_extension": ".py",
   "mimetype": "text/x-python",
   "name": "python",
   "nbconvert_exporter": "python",
   "pygments_lexer": "ipython3",
   "version": "3.8.8"
  }
 },
 "nbformat": 4,
 "nbformat_minor": 5
}
